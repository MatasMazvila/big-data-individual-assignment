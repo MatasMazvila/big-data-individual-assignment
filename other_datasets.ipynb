{
 "cells": [
  {
   "cell_type": "code",
   "execution_count": null,
   "id": "c84ccba5",
   "metadata": {},
   "outputs": [],
   "source": [
    "import pandas as pd\n",
    "import os"
   ]
  },
  {
   "cell_type": "code",
   "execution_count": null,
   "id": "15c9521e",
   "metadata": {},
   "outputs": [],
   "source": [
    "df = pd.read_csv(r\"C:\\Users\\PC\\Desktop\\big-data\\data\\abcnews-date-text\\abcnews-date-text.csv\")\n",
    "print(\"Columns:\", df.columns.tolist())\n",
    "df.head()"
   ]
  },
  {
   "cell_type": "code",
   "execution_count": null,
   "id": "6005946c",
   "metadata": {},
   "outputs": [],
   "source": [
    "df = pd.read_csv(r\"C:\\Users\\PC\\Desktop\\big-data\\data\\medium_artikles\\medium_articles.csv\")\n",
    "print(\"Columns:\", df.columns.tolist())\n",
    "df.head()"
   ]
  },
  {
   "cell_type": "code",
   "execution_count": null,
   "id": "cbf41cb4",
   "metadata": {},
   "outputs": [],
   "source": [
    "import glob\n",
    "\n",
    "all_files = sorted(glob.glob(os.path.join(r\"C:\\Users\\PC\\Desktop\\big-data\\data\\bike_rent\", \"2021*-divvy-tripdata.csv\")))\n",
    "\n",
    "df_list = [pd.read_csv(file) for file in all_files]\n",
    "df_bike = pd.concat(df_list, ignore_index=True)\n",
    "\n",
    "print(\"Combined shape:\", df_bike.shape)\n",
    "print(\"Columns:\", df_bike.columns.tolist())\n",
    "df_bike.head()"
   ]
  }
 ],
 "metadata": {
  "language_info": {
   "name": "python"
  }
 },
 "nbformat": 4,
 "nbformat_minor": 5
}
